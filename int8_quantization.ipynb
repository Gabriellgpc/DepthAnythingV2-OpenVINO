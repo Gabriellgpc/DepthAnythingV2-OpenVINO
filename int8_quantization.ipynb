{
 "cells": [
  {
   "cell_type": "markdown",
   "metadata": {},
   "source": [
    "# Calibration dataset"
   ]
  },
  {
   "cell_type": "code",
   "execution_count": null,
   "metadata": {},
   "outputs": [],
   "source": [
    "import datasets\n",
    "from tqdm import tqdm"
   ]
  },
  {
   "cell_type": "code",
   "execution_count": null,
   "metadata": {},
   "outputs": [],
   "source": [
    "subset_size = 300\n",
    "calibration_data = []\n",
    "# dataset = datasets.load_dataset(\"Nahrawy/VIDIT-Depth-ControlNet\", split=\"train\", streaming=True).shuffle(seed=42).take(subset_size)\n",
    "dataset = datasets.load_dataset(\"depth-anything/DA-2K\", split=\"train\", streaming=True).shuffle(seed=42).take(subset_size)\n",
    "for batch in tqdm(dataset):\n",
    "    image = np.array(batch[\"image\"])[...,:3]\n",
    "    input_tensor, _ = image_preprocess(image)\n",
    "    calibration_data.append(input_tensor)"
   ]
  },
  {
   "cell_type": "markdown",
   "metadata": {},
   "source": [
    "# Quantization"
   ]
  },
  {
   "cell_type": "code",
   "execution_count": null,
   "metadata": {},
   "outputs": [],
   "source": [
    "# input model\n",
    "ov_model_path = \"models_ov/depth_anything_v2_vitl.xml\"\n",
    "# output path\n",
    "ov_model_int8_path = ov_model_path.replace(\".xml\", \"_int8.xml\")"
   ]
  },
  {
   "cell_type": "code",
   "execution_count": null,
   "metadata": {},
   "outputs": [],
   "source": [
    "import nncf\n",
    "import openvino as ov\n",
    "\n",
    "core = ov.Core()\n",
    "\n",
    "model = core.read_model(ov_model_path)\n",
    "quantized_model = nncf.quantize(\n",
    "    model=model,\n",
    "    subset_size=subset_size,\n",
    "    model_type=nncf.ModelType.TRANSFORMER,\n",
    "    calibration_dataset=nncf.Dataset(calibration_data),\n",
    ")\n",
    "ov.save_model(quantized_model, ov_model_int8_path)"
   ]
  }
 ],
 "metadata": {
  "kernelspec": {
   "display_name": "fastdepthv2",
   "language": "python",
   "name": "python3"
  },
  "language_info": {
   "codemirror_mode": {
    "name": "ipython",
    "version": 3
   },
   "file_extension": ".py",
   "mimetype": "text/x-python",
   "name": "python",
   "nbconvert_exporter": "python",
   "pygments_lexer": "ipython3",
   "version": "3.11.9"
  }
 },
 "nbformat": 4,
 "nbformat_minor": 2
}
