{
 "cells": [
  {
   "cell_type": "code",
   "execution_count": null,
   "metadata": {},
   "outputs": [],
   "source": [
    "import cv2\n",
    "import numpy as np\n",
    "from pathlib import Path\n",
    "\n",
    "import openvino as ov\n",
    "\n",
    "import matplotlib.pyplot as plt\n",
    "\n",
    "import utils"
   ]
  },
  {
   "cell_type": "code",
   "execution_count": null,
   "metadata": {},
   "outputs": [],
   "source": [
    "ov_model_path  = \"models_ov/depth_anything_v2_vitb.xml\""
   ]
  },
  {
   "cell_type": "code",
   "execution_count": null,
   "metadata": {},
   "outputs": [],
   "source": [
    "core = ov.Core()\n",
    "core.available_devices"
   ]
  },
  {
   "cell_type": "code",
   "execution_count": null,
   "metadata": {},
   "outputs": [],
   "source": [
    "device = \"AUTO\""
   ]
  },
  {
   "cell_type": "code",
   "execution_count": null,
   "metadata": {},
   "outputs": [],
   "source": [
    "def image_preprocess(image):\n",
    "    \"\"\"\n",
    "        Input:\n",
    "            image: RGB image, [Height, Width, Channels] as numpy array\n",
    "        Output:\n",
    "            input_tensor, (h_o, w_o)\n",
    "        input_tensor -> ready to feed the model\n",
    "        and original height and width of the given image\n",
    "    \"\"\"\n",
    "    # save original shape\n",
    "    image_size = image.shape[:2]\n",
    "    # normalize [0, 1]\n",
    "    input_tensor = image / 255.0\n",
    "    # Resize to [518, 518]\n",
    "    input_tensor = cv2.resize(input_tensor, dsize=[518, 518], interpolation=cv2.INTER_CUBIC)\n",
    "\n",
    "    # mean and std\n",
    "    mean = [0.485, 0.456, 0.406]\n",
    "    std  = [0.229, 0.224, 0.225]\n",
    "    input_tensor = (input_tensor - mean) / std\n",
    "\n",
    "    # turn it channels first.\n",
    "    # (h, w, c) -> (c, h, w)\n",
    "    input_tensor = np.transpose(input_tensor, (2, 0, 1))\n",
    "\n",
    "    # add batch size\n",
    "    input_tensor = np.expand_dims(input_tensor, 0)\n",
    "\n",
    "    # force dtype to float32\n",
    "    input_tensor = input_tensor.astype(\"float32\")\n",
    "    return input_tensor, image_size\n",
    "\n",
    "def postprocess(model_output, image_size):\n",
    "    depth = model_output[0]\n",
    "    h, w = image_size\n",
    "    depth = cv2.resize(depth, dsize=(w, h), interpolation=cv2.INTER_AREA)\n",
    "    return depth"
   ]
  },
  {
   "cell_type": "code",
   "execution_count": null,
   "metadata": {},
   "outputs": [],
   "source": [
    "image_url = \"https://images.pexels.com/photos/5740792/pexels-photo-5740792.jpeg?auto=compress&cs=tinysrgb&w=1260&h=750&dpr=1\"\n",
    "image = np.array(utils.download_image(image_url))"
   ]
  },
  {
   "cell_type": "code",
   "execution_count": null,
   "metadata": {},
   "outputs": [],
   "source": [
    "compiled_model = core.compile_model(ov_model_path, device)"
   ]
  },
  {
   "cell_type": "code",
   "execution_count": null,
   "metadata": {},
   "outputs": [],
   "source": [
    "%%time\n",
    "input_tensor, image_size = image_preprocess(image)\n",
    "model_out = compiled_model(input_tensor)[0]\n",
    "depth = postprocess(model_out, image_size)"
   ]
  },
  {
   "cell_type": "code",
   "execution_count": null,
   "metadata": {},
   "outputs": [],
   "source": [
    "plt.imshow(depth)\n",
    "plt.axis(\"off\")\n",
    "plt.show()"
   ]
  }
 ],
 "metadata": {
  "kernelspec": {
   "display_name": "fastdepthv2",
   "language": "python",
   "name": "python3"
  },
  "language_info": {
   "codemirror_mode": {
    "name": "ipython",
    "version": 3
   },
   "file_extension": ".py",
   "mimetype": "text/x-python",
   "name": "python",
   "nbconvert_exporter": "python",
   "pygments_lexer": "ipython3",
   "version": "3.11.9"
  }
 },
 "nbformat": 4,
 "nbformat_minor": 2
}
